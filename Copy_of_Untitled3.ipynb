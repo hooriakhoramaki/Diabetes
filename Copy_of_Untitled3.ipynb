{
  "nbformat": 4,
  "nbformat_minor": 0,
  "metadata": {
    "colab": {
      "provenance": [],
      "authorship_tag": "ABX9TyPvWVt6DOhwAQYgKKZpj4El",
      "include_colab_link": true
    },
    "kernelspec": {
      "name": "python3",
      "display_name": "Python 3"
    },
    "language_info": {
      "name": "python"
    }
  },
  "cells": [
    {
      "cell_type": "markdown",
      "metadata": {
        "id": "view-in-github",
        "colab_type": "text"
      },
      "source": [
        "<a href=\"https://colab.research.google.com/github/hooriakhoramaki/Diabetes/blob/main/Copy_of_Untitled3.ipynb\" target=\"_parent\"><img src=\"https://colab.research.google.com/assets/colab-badge.svg\" alt=\"Open In Colab\"/></a>"
      ]
    },
    {
      "cell_type": "code",
      "execution_count": 3,
      "metadata": {
        "colab": {
          "base_uri": "https://localhost:8080/"
        },
        "id": "KtlueIVPtE8H",
        "outputId": "09052f34-528a-436e-e3cd-112367bdffa8"
      },
      "outputs": [
        {
          "output_type": "stream",
          "name": "stdout",
          "text": [
            "Collecting scikit-fuzzy\n",
            "  Downloading scikit_fuzzy-0.5.0-py2.py3-none-any.whl.metadata (2.6 kB)\n",
            "Downloading scikit_fuzzy-0.5.0-py2.py3-none-any.whl (920 kB)\n",
            "\u001b[?25l   \u001b[90m━━━━━━━━━━━━━━━━━━━━━━━━━━━━━━━━━━━━━━━━\u001b[0m \u001b[32m0.0/920.8 kB\u001b[0m \u001b[31m?\u001b[0m eta \u001b[36m-:--:--\u001b[0m\r\u001b[2K   \u001b[91m━━━━━━━━━━━━━━━━━━━━━━━━━━━━━━\u001b[0m\u001b[91m╸\u001b[0m\u001b[90m━━━━━━━━━\u001b[0m \u001b[32m706.6/920.8 kB\u001b[0m \u001b[31m20.5 MB/s\u001b[0m eta \u001b[36m0:00:01\u001b[0m\r\u001b[2K   \u001b[90m━━━━━━━━━━━━━━━━━━━━━━━━━━━━━━━━━━━━━━━━\u001b[0m \u001b[32m920.8/920.8 kB\u001b[0m \u001b[31m16.6 MB/s\u001b[0m eta \u001b[36m0:00:00\u001b[0m\n",
            "\u001b[?25hInstalling collected packages: scikit-fuzzy\n",
            "Successfully installed scikit-fuzzy-0.5.0\n"
          ]
        }
      ],
      "source": [
        "pip install scikit-fuzzy"
      ]
    },
    {
      "cell_type": "code",
      "source": [
        "import numpy as np\n",
        "import skfuzzy as fuzz\n",
        "from skfuzzy import control as ctrl\n",
        "\n",
        "# تعریف ورودی‌ها\n",
        "fpg = ctrl.Antecedent(np.arange(0, 201, 1), 'fpg')  # قند خون ناشتا\n",
        "hba1c = ctrl.Antecedent(np.arange(0, 11, 0.1), 'hba1c')  # HbA1c\n",
        "ogtt = ctrl.Antecedent(np.arange(0, 301, 1), 'ogtt')  # تست OGTT\n",
        "pregnant = ctrl.Antecedent(np.arange(0, 2, 1), 'pregnant')  # وضعیت بارداری (0 برای خیر، 1 برای بله)\n",
        "exterim_thirst = ctrl.Antecedent(np.arange(0, 5, 1), 'exterim_thirst')  # وضعیت تشنگی شدید)\n",
        "loss_wieght = ctrl.Antecedent(np.arange(0, 21, 1), 'loss_wieght')  # وضعیت از دست دادن وزن)\n",
        "\n",
        "# تعریف خروجی\n",
        "diabetes_type = ctrl.Consequent(np.arange(0, 5, 1), 'diabetes_type')\n",
        "\n",
        "# مجموعه‌های فازی برای FPG\n",
        "fpg['normal'] = fuzz.trimf(fpg.universe, [0, 50, 100])\n",
        "fpg['prediabetes'] = fuzz.trimf(fpg.universe, [90, 110, 130])\n",
        "fpg['diabetes'] = fuzz.trimf(fpg.universe, [120, 160, 200])\n",
        "\n",
        "# مجموعه‌های فازی برای HbA1c\n",
        "hba1c['normal'] = fuzz.trimf(hba1c.universe, [0, 3, 5.7])\n",
        "hba1c['prediabetes'] = fuzz.trimf(hba1c.universe, [5, 6.0, 6.4])\n",
        "hba1c['diabetes'] = fuzz.trimf(hba1c.universe, [6, 8.0, 10.0])\n",
        "\n",
        "# مجموعه‌های فازی برای OGTT\n",
        "ogtt['normal'] = fuzz.trimf(ogtt.universe, [0, 70, 140])\n",
        "ogtt['prediabetes'] = fuzz.trimf(ogtt.universe, [130, 165, 200])\n",
        "ogtt['diabetes'] = fuzz.trimf(ogtt.universe, [190, 250, 300])\n",
        "\n",
        "# مجموعه‌های فازی برای وضعیت بارداری\n",
        "pregnant['no'] = fuzz.trimf(pregnant.universe, [0, 0, 1])\n",
        "pregnant['yes'] = fuzz.trimf(pregnant.universe, [0, 1, 1])\n",
        "\n",
        "#مجموعه فازی برای کاهش وزن\n",
        "loss_wieght['low'] = fuzz.trimf(loss_wieght.universe, [0, 2, 4])\n",
        "loss_wieght['moderate'] = fuzz.trimf(loss_wieght.universe, [2, 5, 8])\n",
        "loss_wieght['high'] = fuzz.trimf(loss_wieght.universe, [4, 10, 20])\n",
        "\n",
        "#مجموعه فازی برای تشنگی شدید\n",
        "exterim_thirst['low'] = fuzz.trimf(exterim_thirst.universe, [0, 1, 2])\n",
        "exterim_thirst['moderate'] = fuzz.trimf(exterim_thirst.universe, [1, 2, 3])\n",
        "exterim_thirst['high'] = fuzz.trimf(exterim_thirst.universe, [2, 3, 4])\n",
        "\n",
        "\n",
        "# مجموعه‌های فازی برای خروجی (نوع دیابت)\n",
        "diabetes_type['normal'] = fuzz.trimf(diabetes_type.universe, [0, 0, 1])\n",
        "diabetes_type['prediabetes'] = fuzz.trimf(diabetes_type.universe, [0, 1, 2])\n",
        "diabetes_type['type_1'] = fuzz.trimf(diabetes_type.universe, [1, 2, 3])\n",
        "diabetes_type['type_2'] = fuzz.trimf(diabetes_type.universe, [2, 3, 3])\n",
        "diabetes_type['gestational'] = fuzz.trimf(diabetes_type.universe, [3, 4, 4])\n",
        "\n",
        "# تعریف قوانین فازی\n",
        "rule1 = ctrl.Rule(fpg['normal'] & hba1c['normal'] & ogtt['normal'] & pregnant['no'], diabetes_type['normal'])\n",
        "rule2 = ctrl.Rule(fpg['prediabetes'] | hba1c['prediabetes'] | ogtt['prediabetes'], diabetes_type['prediabetes'])\n",
        "rule3 = ctrl.Rule(fpg['diabetes'] & hba1c['diabetes'] & ogtt['diabetes'] & pregnant['no'], diabetes_type['type_2'])\n",
        "rule4 = ctrl.Rule(fpg['diabetes'] & hba1c['diabetes'] & pregnant['no'] & exterim_thirst['high'] &  loss_wieght['high'] , diabetes_type['type_1'])\n",
        "rule5 = ctrl.Rule(fpg['diabetes'] | hba1c['diabetes'] | ogtt['diabetes'] & pregnant['yes'], diabetes_type['gestational'])\n",
        "# ایجاد سیستم کنترل فازی\n",
        "diabetes_ctrl = ctrl.ControlSystem([rule1, rule2, rule3, rule4, rule5])\n",
        "diabetes_simulation = ctrl.ControlSystemSimulation(diabetes_ctrl)\n",
        "\n",
        "# دریافت ورودی‌ها\n",
        "fpg_input = float(input(\"قند خون ناشتا (FPG): \"))\n",
        "hba1c_input = float(input(\"HbA1c: \"))\n",
        "ogtt_input = float(input(\"OGTT: \"))\n",
        "pregnant_input = int(input(\"آیا باردار هستید؟ (1 برای بله, 0 برای خیر): \"))\n",
        "loss_weight_input = int(input(\"آیا دچار تشنگی میشوید ؟ (بین 0-4): \"))\n",
        "exterim_thirst_input = int(input(\"آیا کاهش وزن شدید دارید ؟ (بین 0- 20): \"))\n",
        "\n",
        "# تنظیم مقادیر ورودی\n",
        "diabetes_simulation.input['fpg'] = fpg_input\n",
        "diabetes_simulation.input['hba1c'] = hba1c_input\n",
        "diabetes_simulation.input['ogtt'] = ogtt_input\n",
        "diabetes_simulation.input['pregnant'] = pregnant_input\n",
        "diabetes_simulation.input['loss_wieght'] = loss_weight_input\n",
        "diabetes_simulation.input['exterim_thirst'] = exterim_thirst_input\n",
        "\n",
        "# اجرای شبیه‌سازی\n",
        "diabetes_simulation.compute()\n",
        "\n",
        "# نمایش خروجی\n",
        "output = diabetes_simulation.output['diabetes_type']\n",
        "if output < 0.5:\n",
        "    diagnosis = \"Normal\"\n",
        "elif 0.5 <= output < 1.5:\n",
        "    diagnosis = \"Pre-Diabetes\"\n",
        "elif 1.5 <= output < 2.5:\n",
        "    diagnosis = \"Type 1 Diabetes\"\n",
        "elif 2.5 <= output < 3.5:\n",
        "    diagnosis = \"Type 2 Diabetes\"\n",
        "else:\n",
        "    diagnosis = \"Gestational Diabetes\"\n",
        "\n",
        "print(\"تشخیص: \", diagnosis)"
      ],
      "metadata": {
        "id": "IguddVyZVyzQ"
      },
      "execution_count": null,
      "outputs": []
    }
  ]
}