{
  "nbformat": 4,
  "nbformat_minor": 0,
  "metadata": {
    "colab": {
      "provenance": [],
      "authorship_tag": "ABX9TyNZrorEUFqETpzlPIKIs60W",
      "include_colab_link": true
    },
    "kernelspec": {
      "name": "python3",
      "display_name": "Python 3"
    },
    "language_info": {
      "name": "python"
    }
  },
  "cells": [
    {
      "cell_type": "markdown",
      "metadata": {
        "id": "view-in-github",
        "colab_type": "text"
      },
      "source": [
        "<a href=\"https://colab.research.google.com/github/hooriakhoramaki/Diabetes/blob/main/Copy_of_Untitled3.ipynb\" target=\"_parent\"><img src=\"https://colab.research.google.com/assets/colab-badge.svg\" alt=\"Open In Colab\"/></a>"
      ]
    },
    {
      "cell_type": "code",
      "execution_count": null,
      "metadata": {
        "colab": {
          "base_uri": "https://localhost:8080/"
        },
        "id": "KtlueIVPtE8H",
        "outputId": "00c649fa-d63a-4725-98f5-820e830dcc95"
      },
      "outputs": [
        {
          "output_type": "stream",
          "name": "stdout",
          "text": [
            "Collecting scikit-fuzzy\n",
            "  Downloading scikit_fuzzy-0.5.0-py2.py3-none-any.whl.metadata (2.6 kB)\n",
            "Downloading scikit_fuzzy-0.5.0-py2.py3-none-any.whl (920 kB)\n",
            "\u001b[?25l   \u001b[90m━━━━━━━━━━━━━━━━━━━━━━━━━━━━━━━━━━━━━━━━\u001b[0m \u001b[32m0.0/920.8 kB\u001b[0m \u001b[31m?\u001b[0m eta \u001b[36m-:--:--\u001b[0m\r\u001b[2K   \u001b[91m━━━━━━━━━━━━━━━━━━━━━━━━━━━━━━━━━━━━━━━\u001b[0m\u001b[91m╸\u001b[0m \u001b[32m911.4/920.8 kB\u001b[0m \u001b[31m33.4 MB/s\u001b[0m eta \u001b[36m0:00:01\u001b[0m\r\u001b[2K   \u001b[90m━━━━━━━━━━━━━━━━━━━━━━━━━━━━━━━━━━━━━━━━\u001b[0m \u001b[32m920.8/920.8 kB\u001b[0m \u001b[31m19.0 MB/s\u001b[0m eta \u001b[36m0:00:00\u001b[0m\n",
            "\u001b[?25hInstalling collected packages: scikit-fuzzy\n",
            "Successfully installed scikit-fuzzy-0.5.0\n"
          ]
        }
      ],
      "source": [
        "pip install scikit-fuzzy"
      ]
    },
    {
      "cell_type": "code",
      "source": [
        "import numpy as np\n",
        "import skfuzzy as fuzz\n",
        "from skfuzzy import control as ctrl\n",
        "\n",
        "# تعریف ورودی‌ها\n",
        "fpg = ctrl.Antecedent(np.arange(0, 201, 1), 'fpg')  # قند خون ناشتا\n",
        "hba1c = ctrl.Antecedent(np.arange(0, 11, 0.1), 'hba1c')  # HbA1c\n",
        "ogtt = ctrl.Antecedent(np.arange(0, 301, 1), 'ogtt')  # تست OGTT\n",
        "pregnant = ctrl.Antecedent(np.arange(0, 2, 1), 'pregnant')  # وضعیت بارداری (0 برای خیر، 1 برای بله)\n",
        "\n",
        "# تعریف خروجی\n",
        "diabetes_type = ctrl.Consequent(np.arange(0, 5, 1), 'diabetes_type')\n",
        "\n",
        "# مجموعه‌های فازی برای FPG\n",
        "fpg['normal'] = fuzz.trimf(fpg.universe, [0, 70, 99])\n",
        "fpg['prediabetes'] = fuzz.trimf(fpg.universe, [100, 110, 125])\n",
        "fpg['diabetes'] = fuzz.trimf(fpg.universe, [126, 140, 200])\n",
        "\n",
        "# مجموعه‌های فازی برای HbA1c\n",
        "hba1c['normal'] = fuzz.trimf(hba1c.universe, [0, 5.7, 5.7])\n",
        "hba1c['prediabetes'] = fuzz.trimf(hba1c.universe, [5.7, 6.0, 6.4])\n",
        "hba1c['diabetes'] = fuzz.trimf(hba1c.universe, [6.5, 8.0, 10.0])\n",
        "\n",
        "# مجموعه‌های فازی برای OGTT\n",
        "ogtt['normal'] = fuzz.trimf(ogtt.universe, [0, 100, 139])\n",
        "ogtt['prediabetes'] = fuzz.trimf(ogtt.universe, [140, 150, 199])\n",
        "ogtt['diabetes'] = fuzz.trimf(ogtt.universe, [200, 250, 300])\n",
        "\n",
        "# مجموعه‌های فازی برای وضعیت بارداری\n",
        "pregnant['no'] = fuzz.trimf(pregnant.universe, [0, 0, 1])\n",
        "pregnant['yes'] = fuzz.trimf(pregnant.universe, [0, 1, 1])\n",
        "\n",
        "# مجموعه‌های فازی برای خروجی (نوع دیابت)\n",
        "diabetes_type['normal'] = fuzz.trimf(diabetes_type.universe, [0, 0, 1])\n",
        "diabetes_type['prediabetes'] = fuzz.trimf(diabetes_type.universe, [0, 1, 2])\n",
        "diabetes_type['type_1'] = fuzz.trimf(diabetes_type.universe, [1, 2, 3])\n",
        "diabetes_type['type_2'] = fuzz.trimf(diabetes_type.universe, [2, 3, 3])\n",
        "diabetes_type['gestational'] = fuzz.trimf(diabetes_type.universe, [3, 4, 4])\n",
        "\n",
        "# تعریف قوانین فازی\n",
        "rule1 = ctrl.Rule(fpg['normal'] & hba1c['normal'] & ogtt['normal'] & pregnant['no'], diabetes_type['normal'])\n",
        "rule2 = ctrl.Rule(fpg['prediabetes'] | hba1c['prediabetes'] | ogtt['prediabetes'], diabetes_type['prediabetes'])\n",
        "rule3 = ctrl.Rule(fpg['diabetes'] & hba1c['diabetes'] & ogtt['diabetes'] & pregnant['no'], diabetes_type['type_2'])\n",
        "rule4 = ctrl.Rule(fpg['diabetes'] & hba1c['diabetes'] & pregnant['no'], diabetes_type['type_1'])  # فقط بر اساس FPG و HbA1c\n",
        "rule5 = ctrl.Rule(fpg['diabetes'] | hba1c['diabetes'] | ogtt['diabetes'] & pregnant['yes'], diabetes_type['gestational'])  # دیابت بارداری\n",
        "\n",
        "# ایجاد سیستم کنترل فازی\n",
        "diabetes_ctrl = ctrl.ControlSystem([rule1, rule2, rule3, rule4, rule5])\n",
        "diabetes_simulation = ctrl.ControlSystemSimulation(diabetes_ctrl)\n",
        "\n",
        "# دریافت ورودی‌ها\n",
        "fpg_input = float(input(\"قند خون ناشتا (FPG): \"))\n",
        "hba1c_input = float(input(\"HbA1c: \"))\n",
        "ogtt_input = float(input(\"OGTT: \"))\n",
        "pregnant_input = int(input(\"آیا باردار هستید؟ (1 برای بله, 0 برای خیر): \"))\n",
        "\n",
        "# تنظیم مقادیر ورودی\n",
        "diabetes_simulation.input['fpg'] = fpg_input\n",
        "diabetes_simulation.input['hba1c'] = hba1c_input\n",
        "diabetes_simulation.input['ogtt'] = ogtt_input\n",
        "diabetes_simulation.input['pregnant'] = pregnant_input\n",
        "\n",
        "# اجرای شبیه‌سازی\n",
        "diabetes_simulation.compute()\n",
        "\n",
        "# نمایش خروجی\n",
        "output = diabetes_simulation.output['diabetes_type']\n",
        "if output < 0.5:\n",
        "    diagnosis = \"Normal\"\n",
        "elif 0.5 <= output < 1.5:\n",
        "    diagnosis = \"Pre-Diabetes\"\n",
        "elif 1.5 <= output < 2.5:\n",
        "    diagnosis = \"Type 1 Diabetes\"\n",
        "elif 2.5 <= output < 3.5:\n",
        "    diagnosis = \"Type 2 Diabetes\"\n",
        "else:\n",
        "    diagnosis = \"Gestational Diabetes\"\n",
        "\n",
        "print(\"تشخیص: \", diagnosis)"
      ],
      "metadata": {
        "id": "IguddVyZVyzQ"
      },
      "execution_count": null,
      "outputs": []
    }
  ]
}